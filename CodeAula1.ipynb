{
 "cells": [
  {
   "cell_type": "code",
   "execution_count": 22,
   "metadata": {},
   "outputs": [
    {
     "name": "stdout",
     "output_type": "stream",
     "text": [
      "Oi, meu chapa!\n",
      "Soma é:  55\n",
      "Subtração é: -25\n",
      "110\n",
      "91.25\n",
      "31.25\n"
     ]
    }
   ],
   "source": [
    "print(\"Oi, meu chapa!\")\n",
    "\n",
    "# Não iniciar variáveis com Maiúsculas\n",
    "pessoa= \"Eva\"\n",
    "# Evitar usar acentuação\n",
    "inicio = 0\n",
    "idade= 20\n",
    "altura= 1.70\n",
    "dev= True\n",
    "\n",
    "type(pessoa)\n",
    "type(inicio)\n",
    "type(idade)\n",
    "type(altura)\n",
    "type(dev)\n",
    "\n",
    "# Operações com variáveis\n",
    "idade1 = 40\n",
    "idade2 = 15\n",
    "\n",
    "soma = idade1 + idade2\n",
    "print(\"Soma é: \", soma)\n",
    "\n",
    "subtrai = idade2 - idade1\n",
    "print(\"Subtração é:\", subtrai)\n",
    "\n",
    "multiplicacao_da_soma = 2 * (idade1 + idade2)\n",
    "print(multiplicacao_da_soma)\n",
    "\n",
    "multiplicacao_da_soma2 = 2 * idade1 + 3 * idade2 /4\n",
    "print(multiplicacao_da_soma2)\n",
    "\n",
    "multiplicacao_da_soma3 = (2* idade1 + 3* idade2) /4\n",
    "print(multiplicacao_da_soma3)\n",
    "\n",
    "# O uso de \"//\" imprime um numero inteiro e o uso de \"/\" imprime um numero decimal :)\n",
    "\n"
   ]
  }
 ],
 "metadata": {
  "kernelspec": {
   "display_name": "Python 3",
   "language": "python",
   "name": "python3"
  },
  "language_info": {
   "codemirror_mode": {
    "name": "ipython",
    "version": 3
   },
   "file_extension": ".py",
   "mimetype": "text/x-python",
   "name": "python",
   "nbconvert_exporter": "python",
   "pygments_lexer": "ipython3",
   "version": "3.11.8"
  }
 },
 "nbformat": 4,
 "nbformat_minor": 2
}
