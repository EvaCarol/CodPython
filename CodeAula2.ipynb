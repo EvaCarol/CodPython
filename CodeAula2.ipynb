{
 "cells": [
  {
   "cell_type": "code",
   "execution_count": 3,
   "metadata": {},
   "outputs": [
    {
     "name": "stdout",
     "output_type": "stream",
     "text": [
      "Você ganhou 10% de desconto\n"
     ]
    }
   ],
   "source": [
    "# Aula 2 #\n",
    "\n",
    "nome = input(\"Digite seu nome:\")\n",
    "print(nome)\n",
    "\n",
    "idade = int(input(\"Qual sua idade?\"))\n",
    "print(idade)\n",
    "\n",
    "print(\"Nossa como soa bem,\", nome,\"! Tão jovem nem parece que tem,\", idade, \"anos\")\n",
    "\n",
    "valor1 = input(\"Digite um número inteiro: \")\n",
    "print(valor1)\n",
    "valor2 = input(\"Digite outro número inteiro: \")\n",
    "print(valor2)\n",
    "\n",
    "print(valor1 == valor2)\n",
    "print(valor1 > valor2)\n",
    "print(valor1 < valor2)\n",
    "print(valor1 >= valor2)\n",
    "print(valor1 <= valor2)\n",
    "\n",
    "#numero =  10#\n",
    "#print(numero>0 or numero <10)#\n",
    "\n",
    "senha = \"123456\"\n",
    "_senha = input(\"Digite sua senha: \")\n",
    "if senha == _senha:\n",
    "    print(\"Senha Correta!\")\n",
    "else:\n",
    "   print(\"Senha incorreta, \", input(\"Digite novamente:\"))\n",
    "\n",
    " # o uso do % como modulo (O resto da divisão)  \n",
    "\n",
    "num1 = int(input(\"Digite um numero: \")) \n",
    "if (num1 % 2 == 0): \n",
    "    print(\"Esse número é par\")\n",
    "else:\n",
    "    print(\"Esse número é ímpar\")\n",
    "\n",
    "cupom = input(\"Digite o cupom: \")\n",
    "if (cupom == \"aula1\" or cupom == \"aula2\"):\n",
    "    print(\"Você ganhou 10% De desconto\")\n",
    "\n",
    "\n"
   ]
  },
  {
   "cell_type": "code",
   "execution_count": null,
   "metadata": {},
   "outputs": [],
   "source": []
  }
 ],
 "metadata": {
  "kernelspec": {
   "display_name": ".venv",
   "language": "python",
   "name": "python3"
  },
  "language_info": {
   "codemirror_mode": {
    "name": "ipython",
    "version": 3
   },
   "file_extension": ".py",
   "mimetype": "text/x-python",
   "name": "python",
   "nbconvert_exporter": "python",
   "pygments_lexer": "ipython3",
   "version": "3.11.8"
  }
 },
 "nbformat": 4,
 "nbformat_minor": 2
}
